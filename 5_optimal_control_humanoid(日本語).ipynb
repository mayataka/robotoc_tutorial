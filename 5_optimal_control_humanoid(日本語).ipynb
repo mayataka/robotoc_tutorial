{
 "cells": [
  {
   "cell_type": "markdown",
   "metadata": {},
   "source": [
    "## Introduction to `robotoc` \n",
    "# 5: Optimal Control of a Humanoid"
   ]
  },
  {
   "cell_type": "markdown",
   "metadata": {},
   "source": [
    "## 本章の目的\n",
    "ここでは，ヒューマノイドロボット iCub の最適制御問題（OCP）を定式化し，解くことが目的です．"
   ]
  },
  {
   "cell_type": "markdown",
   "metadata": {},
   "source": [
    "まず， iCub の `robotoc.Robot` モデルを作成します．"
   ]
  },
  {
   "cell_type": "code",
   "execution_count": null,
   "metadata": {},
   "outputs": [],
   "source": [
    "import robotoc\n",
    "\n",
    "model_info = robotoc.RobotModelInfo()\n",
    "model_info.urdf_path = 'urdf/icub_description/urdf/icub.urdf'\n",
    "model_info.base_joint_type = robotoc.BaseJointType.FloatingBase\n",
    "baumgarte_time_step = 0.05\n",
    "model_info.surface_contacts = [robotoc.ContactModelInfo('l_sole', baumgarte_time_step),\n",
    "                               robotoc.ContactModelInfo('r_sole', baumgarte_time_step)]\n",
    "icub = robotoc.Robot(model_info)"
   ]
  },
  {
   "cell_type": "markdown",
   "metadata": {},
   "source": [
    "## Cost Function（評価関数）\n",
    "次に，評価関数 (cost function) を作成します．   \n",
    "`robotoc`では，様々な評価関数のコンポーネント（**cost components**）を組み合わせて評価関数, `robotoc.CostFunction` (`std::shared_ptr<robotoc::CostFunction>` in C++), を作ります．  \n",
    "各 **cost component** はある特定の評価関数の項を表しており，`robotoc.CostFunctionComponentBase` (`robotoc::CostFunctionComponentBase` in C++) を継承しています.   \n",
    "**cost component** を評価関数 `robotoc.CostFunction` に集め， 評価関数 `robotoc.CostFunction` をソルバーに渡します．   \n",
    "このようにすることで，複数の**cost components** を簡単に組み合わせて評価関数が設計できるようになっています."
   ]
  },
  {
   "cell_type": "markdown",
   "metadata": {},
   "source": [
    "基本的な **cost components** は `robotoc` のパッケージに既に多数実装されています.  \n",
    "この例では， configuration つまり関節角，角速度，トルクなどについての **cost component** を考えます．   \n",
    "以下がその **cost component** です．"
   ]
  },
  {
   "cell_type": "markdown",
   "metadata": {},
   "source": [
    "### Jumping Pattern (ジャンプパターン)\n",
    "評価関数を作る前に，まずはジャンプのパターンを設定します．　　 "
   ]
  },
  {
   "cell_type": "code",
   "execution_count": null,
   "metadata": {},
   "outputs": [],
   "source": [
    "import numpy as np\n",
    "jump_length = np.array([0.5, 0, 0])\n",
    "flying_time = 0.25\n",
    "ground_time = 0.7"
   ]
  },
  {
   "cell_type": "markdown",
   "metadata": {},
   "source": [
    "### Configuration Space Cost\n",
    "\n",
    "レファレンスと重みパラメータを設定していきます．   \n",
    "以下のような命名規則があります．   \n",
    "\n",
    "- `q_ref`: configuration のレファレンス (目標値）\n",
    "- `q_weight`: configuration の重みパラメータ\n",
    "- `v_weight`: 一般化速度 (関節角速度) の重みパラメータ\n",
    "- `a_weight`: 一般化加速度 (関節角加速度) の重みパラメータ\n",
    "- `u_weight`: 関節トルクの重みパラメータ\n",
    "- `q_weight_terminal`, `v_weight_terminal`: ホライゾン終端での configuration と一般化速度の重みパラメータ\n",
    "- `q_weight_impact`, `v_weight_impact`: 衝突の瞬間での configuration と一般化速度の重みパラメータ\n",
    "- `dv_weight_impact`: 衝突の瞬間での 一般化速度変化（状態ジャンプ）の重みパラメータ"
   ]
  },
  {
   "cell_type": "code",
   "execution_count": null,
   "metadata": {},
   "outputs": [],
   "source": [
    "q_standing = np.array([0, 0, 0.592, 0, 0, 1, 0,\n",
    "                       0.20944, 0.08727, 0, -0.1745, -0.0279, -0.08726, # left leg\n",
    "                       0.20944, 0.08727, 0, -0.1745, -0.0279, -0.08726, # right leg\n",
    "                       0, 0, 0, # torso\n",
    "                       0, 0.35, 0.5, 0.5, 0, 0, 0, # left arm \n",
    "                       0, 0.35, 0.5, 0.5, 0, 0, 0]) # right arm \n",
    "q_ref = q_standing.copy()\n",
    "q_ref[0:3] += jump_length\n",
    "q_weight = np.array([0, 1, 1, 100, 100, 100, \n",
    "                     0.001, 0.001, 0.001, 0.001, 0.001, 0.001, \n",
    "                     0.001, 0.001, 0.001, 0.001, 0.001, 0.001, \n",
    "                     0.001, 1, 1,\n",
    "                     0.001, 0.001, 0.001, 0.001, 0.001, 0.001, 0.001, \n",
    "                     0.001, 0.001, 0.001, 0.001, 0.001, 0.001, 0.001])\n",
    "q_weight_terminal = q_weight\n",
    "v_weight = np.full(icub.dimv(), 1.0e-03)\n",
    "a_weight = np.full(icub.dimv(), 1.0e-05)\n",
    "q_weight_impact = 1.0 * q_weight\n",
    "v_weight_impact = 1.0 * v_weight\n",
    "config_cost = robotoc.ConfigurationSpaceCost(icub)\n",
    "config_cost.set_q_ref(q_standing)\n",
    "config_cost.set_q_weight(q_weight)\n",
    "config_cost.set_q_weight_terminal(q_weight)\n",
    "config_cost.set_q_weight_impact(q_weight_impact)\n",
    "config_cost.set_v_weight(v_weight)\n",
    "config_cost.set_v_weight_terminal(v_weight)\n",
    "config_cost.set_v_weight_impact(v_weight_impact)\n",
    "config_cost.set_a_weight(a_weight)"
   ]
  },
  {
   "cell_type": "markdown",
   "metadata": {},
   "source": [
    "以上の **cost components** を`robotoc.CostFunction`にまとめます．"
   ]
  },
  {
   "cell_type": "code",
   "execution_count": null,
   "metadata": {},
   "outputs": [],
   "source": [
    "cost = robotoc.CostFunction()\n",
    "cost.push_back(config_cost)"
   ]
  },
  {
   "cell_type": "markdown",
   "metadata": {},
   "source": [
    "## Constraints（制約）\n",
    "制約についても評価関数と同様に作成します．   \n",
    "`robotoc.Constraints` (`std::shared_ptr<robotoc::Constraints>` in C++) は **constraint components**のコレクションになっています.\n",
    "各 **constraints component** はある特定の制約を表しており， `robotoc.ConstraintComponentBase` (`robotoc::ConstraintComponentBase` in C++) を継承しています．     \n",
    "これにより，様々な **constraints components** を簡単に組み合わせて制約を設計できます."
   ]
  },
  {
   "cell_type": "markdown",
   "metadata": {},
   "source": [
    "基本的な **constraint components** のは既に `robotoc` に多数実装されています.  \n",
    "この例では，関節角度，角速度，トルクの制約を考えます．     "
   ]
  },
  {
   "cell_type": "code",
   "execution_count": null,
   "metadata": {},
   "outputs": [],
   "source": [
    "joint_position_lower  = robotoc.JointPositionLowerLimit(icub)\n",
    "joint_position_upper  = robotoc.JointPositionUpperLimit(icub)\n",
    "joint_velocity_lower  = robotoc.JointVelocityLowerLimit(icub)\n",
    "joint_velocity_upper  = robotoc.JointVelocityUpperLimit(icub)\n",
    "joint_torques_lower   = robotoc.JointTorquesLowerLimit(icub)\n",
    "joint_torques_upper   = robotoc.JointTorquesUpperLimit(icub)"
   ]
  },
  {
   "cell_type": "markdown",
   "metadata": {},
   "source": [
    "さらに，摩擦錐 (friction cone) 制約をつくります．    "
   ]
  },
  {
   "cell_type": "code",
   "execution_count": null,
   "metadata": {},
   "outputs": [],
   "source": [
    "friction_cone = robotoc.FrictionCone(icub)"
   ]
  },
  {
   "cell_type": "markdown",
   "metadata": {},
   "source": [
    "制約を作り，上記のコンポーネントを加えます．"
   ]
  },
  {
   "cell_type": "code",
   "execution_count": null,
   "metadata": {},
   "outputs": [],
   "source": [
    "constraints = robotoc.Constraints()\n",
    "constraints.push_back(joint_position_lower)\n",
    "constraints.push_back(joint_position_upper)\n",
    "constraints.push_back(joint_velocity_lower)\n",
    "constraints.push_back(joint_velocity_upper)\n",
    "constraints.push_back(joint_torques_lower)\n",
    "constraints.push_back(joint_torques_upper)\n",
    "constraints.push_back(friction_cone)"
   ]
  },
  {
   "cell_type": "markdown",
   "metadata": {},
   "source": [
    "## Contact Sequence（接触系列）\n",
    "**Contact sequence** (`robotoc.ContactSequence`) は **contact status**  (`robotoc.ContactStatus`) の系列です．   \n",
    "**Contact status** は接触についての情報，どの接触がアクティブなのか？ や接触の位置など，を記述したものです.  \n",
    "これをOCPソルバーに渡すことで，OCPソルバーは自動的に問題を contact sequence に合わせて定式化してくれます．"
   ]
  },
  {
   "cell_type": "markdown",
   "metadata": {},
   "source": [
    "以下のように contact sequence を作ります．"
   ]
  },
  {
   "cell_type": "code",
   "execution_count": null,
   "metadata": {},
   "outputs": [],
   "source": [
    "contact_sequence = robotoc.ContactSequence(icub)"
   ]
  },
  {
   "cell_type": "markdown",
   "metadata": {},
   "source": [
    "ここから，逐次的に contact sequence を作り上げていきます．   \n",
    "まずは，初期状態での `robotoc.ContactStatus`をつくります．   \n",
    "この`robotoc.ContactStatus`に接触状況（接触がアクティブか否か，接触の位置）を記述します．   \n",
    "初期状態ではロボットは `q_standing`の姿勢をとって直立しています．　  \n",
    "つまり，全ての脚で接触はアクティブです．      \n",
    "従って，以下のように記述します．"
   ]
  },
  {
   "cell_type": "code",
   "execution_count": null,
   "metadata": {},
   "outputs": [],
   "source": [
    "icub.forward_kinematics(q_standing)\n",
    "x3d0_L = icub.frame_placement('l_sole')\n",
    "x3d0_R = icub.frame_placement('r_sole')\n",
    "contact_placements = {'l_sole': x3d0_L, 'r_sole': x3d0_R} \n",
    "mu = 0.6\n",
    "friction_coefficients = {'l_sole': mu, 'r_sole': mu} \n",
    "contact_status_standing = icub.create_contact_status()\n",
    "contact_status_standing.activate_contacts(['l_sole', 'r_sole'])\n",
    "contact_status_standing.set_contact_placements(contact_placements)\n",
    "contact_status_standing.set_friction_coefficients(friction_coefficients)"
   ]
  },
  {
   "cell_type": "markdown",
   "metadata": {},
   "source": [
    "これを用いて contact sequence を初期化します．"
   ]
  },
  {
   "cell_type": "code",
   "execution_count": null,
   "metadata": {},
   "outputs": [],
   "source": [
    "contact_sequence.init(contact_status_standing)"
   ]
  },
  {
   "cell_type": "markdown",
   "metadata": {},
   "source": [
    "次に，両足の接触がアクティブでないとき，つまりロボットが飛び上がった時の contact status を作ります．"
   ]
  },
  {
   "cell_type": "code",
   "execution_count": null,
   "metadata": {},
   "outputs": [],
   "source": [
    "contact_status_flying = icub.create_contact_status()"
   ]
  },
  {
   "cell_type": "markdown",
   "metadata": {},
   "source": [
    "こちらを contact sequence に加えます．(push_backします．)    \n",
    "この例では, **状態・制御入力の軌道と同時に接触のタイミングも最適化します (the switching time optimization (STO) と呼ばれます)** .      \n",
    "STOを行うためには， contact sequence　に push_back するときに次のように指定します．"
   ]
  },
  {
   "cell_type": "code",
   "execution_count": null,
   "metadata": {},
   "outputs": [],
   "source": [
    "contact_sequence.push_back(contact_status_flying, ground_time, sto=True)"
   ]
  },
  {
   "cell_type": "markdown",
   "metadata": {},
   "source": [
    "このとき指定した時刻（上の例では`ground_time`）はスイッチ時刻の初期推定解として使われます．\n"
   ]
  },
  {
   "cell_type": "markdown",
   "metadata": {},
   "source": [
    "次に，両足は再び地面につきます．   \n",
    "そして初期のロボットの状態と比べ，両足の接触位置は `jump_length` だけ移動しています.   "
   ]
  },
  {
   "cell_type": "code",
   "execution_count": null,
   "metadata": {},
   "outputs": [],
   "source": [
    "contact_placements['l_sole'].trans = contact_placements['l_sole'].trans + jump_length\n",
    "contact_placements['r_sole'].trans = contact_placements['r_sole'].trans + jump_length \n",
    "contact_status_standing.set_contact_placements(contact_placements)\n",
    "contact_sequence.push_back(contact_status_standing, ground_time+flying_time, sto=True)"
   ]
  },
  {
   "cell_type": "markdown",
   "metadata": {},
   "source": [
    "次に，ロボットは再び飛び上がります．   \n",
    "すなわち，両足の接触は再びアクティブでなくなります．"
   ]
  },
  {
   "cell_type": "code",
   "execution_count": null,
   "metadata": {},
   "outputs": [],
   "source": [
    "contact_sequence.push_back(contact_status_flying, 2*ground_time+flying_time, sto=True)"
   ]
  },
  {
   "cell_type": "markdown",
   "metadata": {},
   "source": [
    "最後に，両足の接触は再びアクティブになります．   \n",
    "そして，両足の位置は先ほど着地した位置からさらに `jump_length` だけ移動します．"
   ]
  },
  {
   "cell_type": "code",
   "execution_count": null,
   "metadata": {},
   "outputs": [],
   "source": [
    "contact_placements['l_sole'].trans = contact_placements['l_sole'].trans + jump_length \n",
    "contact_placements['r_sole'].trans = contact_placements['r_sole'].trans + jump_length \n",
    "contact_status_standing.set_contact_placements(contact_placements)\n",
    "contact_sequence.push_back(contact_status_standing, 2*ground_time+2*flying_time, sto=True)"
   ]
  },
  {
   "cell_type": "markdown",
   "metadata": {},
   "source": [
    "## STO (Switching Time Optimization) Cost and Constraints \n",
    "今，我々は **STO (スイッチ時刻の最適化)** を考えています．   \n",
    "このとき，STOについての評価関数， STO cost (`robotoc.STOCostFunction`) と STO についての制約， STO constraints (`robotoc.STOConstraints`) を作り，ソルバーに渡す必要があります.     \n",
    "(これらを渡さないと，ソルバーはSTOをせず，スイッチ時刻を固定して状態と入力だけの最適化を行います．）"
   ]
  },
  {
   "cell_type": "markdown",
   "metadata": {},
   "source": [
    "まず STO cost `robotoc.STOCostFunction` (`std::shared_ptr<robotoc::STOCostFunction>` in C++) を作ります.   \n",
    "ここでは特に component を加えず，空の STO cost を作ります."
   ]
  },
  {
   "cell_type": "code",
   "execution_count": null,
   "metadata": {},
   "outputs": [],
   "source": [
    "sto_cost = robotoc.STOCostFunction()"
   ]
  },
  {
   "cell_type": "markdown",
   "metadata": {},
   "source": [
    "次に， STO constraints, i.e., `robotoc.STOConstraints` (`std::shared_ptr<robotoc::STOConstraints>` in C++) を作ります.   \n",
    "ここでは， **minimum dwell-time**, すなわち各接触 phase がアクティブな時間の最小値を設定します．      \n",
    "これを適切に設定することは重要です.   \n",
    "今考えている問題では， 4つのスイッチと 5つの phase があります．"
   ]
  },
  {
   "cell_type": "code",
   "execution_count": null,
   "metadata": {},
   "outputs": [],
   "source": [
    "sto_constraints = robotoc.STOConstraints(minimum_dwell_times=[0.6, 0.2, 0.6, 0.2, 0.6])"
   ]
  },
  {
   "cell_type": "markdown",
   "metadata": {},
   "source": [
    "## Optimal Control Problem (OCP) and Solver\n",
    "\n",
    "ここでは最適制御問題 (OCP) とそのソルバーを作ります．  \n",
    "まずはホライゾン長さ `T` と離散化のグリッドの数 `N` を設定しましょう． "
   ]
  },
  {
   "cell_type": "code",
   "execution_count": null,
   "metadata": {},
   "outputs": [],
   "source": [
    "dt = 0.02\n",
    "T = 2*flying_time + 3*ground_time\n",
    "N = int(np.floor(T/dt))"
   ]
  },
  {
   "cell_type": "markdown",
   "metadata": {},
   "source": [
    "最適制御問題 (OCP), `robotoc.OCP` (`robotoc::OCP` in C++) を用いて問題を記述します.   "
   ]
  },
  {
   "cell_type": "code",
   "execution_count": null,
   "metadata": {},
   "outputs": [],
   "source": [
    "ocp = robotoc.OCP(robot=icub, cost=cost, constraints=constraints, \n",
    "                  sto_cost=sto_cost, sto_constraints=sto_constraints, \n",
    "                  contact_sequence=contact_sequence, T=T, N=N)"
   ]
  },
  {
   "cell_type": "markdown",
   "metadata": {},
   "source": [
    "ではこのOCPのソルバー`robotoc.OCPSolver` (`robotoc::OCPSolver` in C++)　を作ります．   \n",
    "このソルバーは以下の特徴があります: \n",
    "- Direct multiple-shooting 法　と primal-dual interior point 法 （主双対内点法）\n",
    "- Inverse dynamics を用いた **unconstrained** OCP　 (i.e., no contacts or floating bases) の効率的なアルゴリズム.\n",
    "- 状態のみの等式制約のための制約変換法\n",
    "- Riccati recursion によるニュートンステップの計算\n",
    "- スイッチ時刻最適化可能な Riccati recursion アルゴリズム\n",
    "\n",
    "種々のソルバーのオプションを `robotoc.SolverOptions` により設定できます．   \n",
    "ここでは次のようなオプションを設定します．   \n",
    "- `kkt_tol_mesh`: Mesh-refinement を行うための **KKT error** の閾値\n",
    "- `max_dt_mesh`: Mesh-refinement を行うための離散時間ステップの閾値\n",
    "- `initial_sto_reg_iter`: 指定した回数だけ初めの反復で STO に関するヒューリスティックな正則化を行います.\n",
    "- `max_iter`: 最大反復回数.  \n",
    "- `nthreads`: 並列計算で用いるスレッドの数."
   ]
  },
  {
   "cell_type": "code",
   "execution_count": null,
   "metadata": {},
   "outputs": [],
   "source": [
    "solver_options = robotoc.SolverOptions()\n",
    "solver_options.kkt_tol_mesh = 0.1\n",
    "solver_options.max_dt_mesh = T/N \n",
    "solver_options.max_iter = 350\n",
    "solver_options.initial_sto_reg_iter = 10 \n",
    "solver_options.nthreads = 4\n",
    "ocp_solver = robotoc.OCPSolver(ocp=ocp, solver_options=solver_options)"
   ]
  },
  {
   "cell_type": "markdown",
   "metadata": {},
   "source": [
    "## Solve the OCP"
   ]
  },
  {
   "cell_type": "markdown",
   "metadata": {},
   "source": [
    "初期状態 (`q`, `v`) と初期時刻 (`t`) が以下で与えられるOCP（最適制御問題）を考えます．"
   ]
  },
  {
   "cell_type": "code",
   "execution_count": null,
   "metadata": {},
   "outputs": [],
   "source": [
    "t = 0.\n",
    "q = q_standing.copy()\n",
    "v = np.zeros(icub.dimv())"
   ]
  },
  {
   "cell_type": "markdown",
   "metadata": {},
   "source": [
    "まずはソルバーを初期化します．   \n",
    "以下は初期推定解を上の`q`, `v`に設定します．   \n",
    "これは非常にシンプルですが高速な収束に割と重要です．   \n",
    "(例えば状態方程式を用いるといったような，より良い初期化の方法もあると思います．しかし適当な初期化でも direct multiple-shooting の収束性能は良く実装は面倒なため実装していません．)"
   ]
  },
  {
   "cell_type": "code",
   "execution_count": null,
   "metadata": {},
   "outputs": [],
   "source": [
    "ocp_solver.discretize(t)\n",
    "ocp_solver.set_solution(\"q\", q)\n",
    "ocp_solver.set_solution(\"v\", v)\n",
    "ocp_solver.init_constraints()"
   ]
  },
  {
   "cell_type": "markdown",
   "metadata": {},
   "source": [
    "また，不等式制約に関してソルバーを初期化します．    \n",
    "(具体的には，STO制約も含めた主双対内点法のスラック変数とラグランジュ乗数を初期化しますが，特に内部について意識する必要はありません)."
   ]
  },
  {
   "cell_type": "code",
   "execution_count": null,
   "metadata": {},
   "outputs": [],
   "source": [
    "ocp_solver.init_constraints()"
   ]
  },
  {
   "cell_type": "markdown",
   "metadata": {},
   "source": [
    "ソルバーの現在の推定解がどの程度最適解に近いか，ということを判断するために，本ソルバーでは **KKT error** という指標を用います．   \n",
    "これは， Karush–Kuhn–Tucker (KKT) 条件（1次の最適性の必要条件）のl2ノルムです．(最適解でこれは0になります)      \n",
    "まず，初期化後の KKT error を見てみます． "
   ]
  },
  {
   "cell_type": "code",
   "execution_count": null,
   "metadata": {},
   "outputs": [],
   "source": [
    "ocp_solver.KKT_error(t, q, v)"
   ]
  },
  {
   "cell_type": "markdown",
   "metadata": {},
   "source": [
    "次にOCPを解きます．"
   ]
  },
  {
   "cell_type": "code",
   "execution_count": null,
   "metadata": {},
   "outputs": [],
   "source": [
    "ocp_solver.solve(t, q, v)"
   ]
  },
  {
   "cell_type": "markdown",
   "metadata": {},
   "source": [
    "KKT error がとても小さくなっていることが分かります．    \n",
    "(具体的には，`robotoc.SolverOption`で設定した閾値より小さくなっています)."
   ]
  },
  {
   "cell_type": "code",
   "execution_count": null,
   "metadata": {},
   "outputs": [],
   "source": [
    "ocp_solver.KKT_error(t, q, v)"
   ]
  },
  {
   "cell_type": "markdown",
   "metadata": {},
   "source": [
    "また，各反復での KKT error やステップサイズといった収束に関する情報も以下で見れます"
   ]
  },
  {
   "cell_type": "code",
   "execution_count": null,
   "metadata": {},
   "outputs": [],
   "source": [
    "stats = ocp_solver.get_solver_statistics()\n",
    "print(stats)"
   ]
  },
  {
   "cell_type": "code",
   "execution_count": null,
   "metadata": {},
   "outputs": [],
   "source": [
    "%matplotlib inline\n",
    "plot_kkt = robotoc.utils.PlotConvergence()\n",
    "plot_kkt.figsize = 12, 9\n",
    "kkt_data = [e.kkt_error for e in ocp_solver.get_solver_statistics().performance_index]\n",
    "ts_data = ocp_solver.get_solver_statistics().ts\n",
    "plot_kkt.plot(kkt_data=kkt_data, ts_data=ts_data)"
   ]
  },
  {
   "cell_type": "markdown",
   "metadata": {},
   "source": [
    "また，以下で最適化された軌道を可視化できます．   \n",
    "`'gepetto'` を `viewer_type` に選べば， 接触力および friction cone 制約も可視化できます．"
   ]
  },
  {
   "cell_type": "code",
   "execution_count": null,
   "metadata": {},
   "outputs": [],
   "source": [
    "viewer = robotoc.utils.TrajectoryViewer(model_info=model_info, viewer_type='gepetto')\n",
    "viewer.set_contact_info(mu=mu)\n",
    "viewer.display(ocp_solver.get_time_discretization(), \n",
    "               ocp_solver.get_solution('q'), \n",
    "               ocp_solver.get_solution('f', 'WORLD'))"
   ]
  }
 ],
 "metadata": {
  "kernelspec": {
   "display_name": "Python 3",
   "language": "python",
   "name": "python3"
  },
  "language_info": {
   "codemirror_mode": {
    "name": "ipython",
    "version": 3
   },
   "file_extension": ".py",
   "mimetype": "text/x-python",
   "name": "python",
   "nbconvert_exporter": "python",
   "pygments_lexer": "ipython3",
   "version": "3.8.10"
  }
 },
 "nbformat": 4,
 "nbformat_minor": 4
}
