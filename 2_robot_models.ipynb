{
 "cells": [
  {
   "cell_type": "markdown",
   "metadata": {},
   "source": [
    "## Introduction to `robotoc` \n",
    "# 2: Robot Models"
   ]
  },
  {
   "cell_type": "markdown",
   "metadata": {},
   "source": [
    "## The goal of this chapter\n",
    "Here, we learn how to create robot models (`robotoc::Robot`) from URDF packages.  \n",
    "Note that, `robotoc::Robot` is just a wrapper of [`Pinocchio`](https://github.com/stack-of-tasks/pinocchio)'s API.  \n",
    "So, if you want to dive in deeper, please check [`Pinocchio`'s documentation](https://stack-of-tasks.github.io/pinocchio/)."
   ]
  },
  {
   "cell_type": "markdown",
   "metadata": {},
   "source": [
    "## What is URDF?\n",
    "URDF (universal robot description format) describes the robot.  \n",
    "We need very little knowledge on URDF as long as we use off-the-shelf URDF files with `robotoc`.  \n",
    "So don't worry even if you do not know well about URDF!  \n",
    "You can see off-the-shelf URDF packages in this repository's `urdf` folder.    \n",
    "As we can see there, a URDF package is composed of urdf file (`~.urdf`) and mesh files (e.g., `~.stl`, `~.dae`, or `~.obj`)   \n",
    "The urdf file describes the tree structure of the multi-link robot and mesh files contain visual and collision information.   \n",
    "If you'd like to know more, please see, e.g., the ROS tutorials http://wiki.ros.org/urdf/Tutorials.  "
   ]
  },
  {
   "cell_type": "markdown",
   "metadata": {},
   "source": [
    "## Simplest example: a robot manipulator `iiwa14`\n",
    "\n",
    "First, we construct `robotoc.Robot` (`robotoc::Robot` in C++) with a simple example.  \n",
    "Note that C++'s `robotoc::Robot` has more rich methods than the following Python counterpart."
   ]
  },
  {
   "cell_type": "code",
   "execution_count": null,
   "metadata": {},
   "outputs": [],
   "source": [
    "import robotoc\n",
    "path_to_urdf = \"urdf/iiwa_description/urdf/iiwa14.urdf\"\n",
    "iiwa14 = robotoc.Robot(path_to_urdf)"
   ]
  },
  {
   "cell_type": "markdown",
   "metadata": {},
   "source": [
    "We can see the information of the robot as "
   ]
  },
  {
   "cell_type": "code",
   "execution_count": null,
   "metadata": {},
   "outputs": [],
   "source": [
    "print(iiwa14)"
   ]
  },
  {
   "cell_type": "markdown",
   "metadata": {},
   "source": [
    "The printed information is as follows:\n",
    "- `dimq`: the dimension of the configuration\n",
    "- `dimv`: the dimension of the generalized velocity (not always the same as `dimq`)\n",
    "- `dimu`: the dimension of the input torque\n",
    "- `dim_passive`: the dimension of the passive joints including the floating base\n",
    "- `frames`: frames of the robot. you can use to design the cost function and constraints on the end-effector.\n",
    "- `joints`: each joint info.\n",
    "- `effort limit`: limits of joint torques\n",
    "- `velocity limit`: limits of joint velocities\n",
    "- `lower position limit`, `upper position limit`: limits of joint positions\n",
    "\n",
    "You can individually get some of them as"
   ]
  },
  {
   "cell_type": "code",
   "execution_count": null,
   "metadata": {},
   "outputs": [],
   "source": [
    "iiwa14.dimq()"
   ]
  },
  {
   "cell_type": "code",
   "execution_count": null,
   "metadata": {},
   "outputs": [],
   "source": [
    "iiwa14.dimv()"
   ]
  },
  {
   "cell_type": "code",
   "execution_count": null,
   "metadata": {},
   "outputs": [],
   "source": [
    "iiwa14.dimu()"
   ]
  },
  {
   "cell_type": "code",
   "execution_count": null,
   "metadata": {},
   "outputs": [],
   "source": [
    "iiwa14.dim_passive()"
   ]
  },
  {
   "cell_type": "code",
   "execution_count": null,
   "metadata": {},
   "outputs": [],
   "source": [
    "iiwa14.joint_effort_limit()"
   ]
  },
  {
   "cell_type": "code",
   "execution_count": null,
   "metadata": {},
   "outputs": [],
   "source": [
    "iiwa14.joint_velocity_limit()"
   ]
  },
  {
   "cell_type": "code",
   "execution_count": null,
   "metadata": {},
   "outputs": [],
   "source": [
    "iiwa14.lower_joint_position_limit()"
   ]
  },
  {
   "cell_type": "code",
   "execution_count": null,
   "metadata": {},
   "outputs": [],
   "source": [
    "iiwa14.upper_joint_position_limit()"
   ]
  },
  {
   "cell_type": "markdown",
   "metadata": {},
   "source": [
    "Next, let's visualize them with some random configuration"
   ]
  },
  {
   "cell_type": "code",
   "execution_count": null,
   "metadata": {},
   "outputs": [],
   "source": [
    "steps = 10\n",
    "q = [iiwa14.generate_feasible_configuration() for i in range(steps)]\n",
    "dt = 1.0\n",
    "\n",
    "viewer = robotoc.utils.TrajectoryViewer(path_to_urdf=path_to_urdf, viewer_type='meshcat')\n",
    "viewer.display(dt, q)"
   ]
  },
  {
   "cell_type": "markdown",
   "metadata": {},
   "source": [
    "You can also call simple forward kinematics with the robot object."
   ]
  },
  {
   "cell_type": "code",
   "execution_count": null,
   "metadata": {},
   "outputs": [],
   "source": [
    "end_effector_frame = 'iiwa_link_ee_kuka'\n",
    "for e in q:\n",
    "    iiwa14.forward_kinematics(e)\n",
    "    print('q: ', e)\n",
    "    print('frame position: ', iiwa14.frame_position(end_effector_frame))\n",
    "    print('frame rotation: ', iiwa14.frame_rotation(end_effector_frame))\n",
    "    print('frame placement (SE3): ', iiwa14.frame_placement(end_effector_frame))"
   ]
  },
  {
   "cell_type": "markdown",
   "metadata": {},
   "source": [
    "## Quadrupedal robot `ANYmal`\n",
    "\n",
    "Second, we try a quadruped robot example.  \n",
    "The quadrupedal robot typically involves **four point contacts**.  \n",
    "So we specify it in the constructor as the names of the contact frames or contact frame indices.  \n",
    "Here, we do it via names."
   ]
  },
  {
   "cell_type": "code",
   "execution_count": null,
   "metadata": {},
   "outputs": [],
   "source": [
    "contact_frames = ['LF_FOOT', 'LH_FOOT', 'RF_FOOT', 'RH_FOOT']"
   ]
  },
  {
   "cell_type": "markdown",
   "metadata": {},
   "source": [
    "Further, we have to explicitly set the contact type.  \n",
    "Quadruped robots have point contacts, so we specify it as "
   ]
  },
  {
   "cell_type": "code",
   "execution_count": null,
   "metadata": {},
   "outputs": [],
   "source": [
    "contact_types = [robotoc.ContactType.PointContact for _ in contact_frames]"
   ]
  },
  {
   "cell_type": "markdown",
   "metadata": {},
   "source": [
    "We also specify the time-step parameter (or weight parameters) of the Baumgarte's stabilization method.  \n",
    "This is to take the accurate rigid contacts into account.  \n",
    "Please see detail, e.g., in [this paper](https://www.researchgate.net/publication/234610391_A_Parametric_Study_on_the_Baumgarte_Stabilization_Method_for_Forward_Dynamics_of_Constrained_Multibody_Systems).\n",
    "The appropriate parameter depends on the time step of MPC formulation.  \n",
    "So some experimentation is necessary.   \n",
    "In my experience, 2~10 times of time step of MPC work well.\n",
    "Here, we set it as 0.04."
   ]
  },
  {
   "cell_type": "code",
   "execution_count": null,
   "metadata": {},
   "outputs": [],
   "source": [
    "baumgarte_time_step = 0.04"
   ]
  },
  {
   "cell_type": "markdown",
   "metadata": {},
   "source": [
    "Finally, we construct the robot.  \n",
    "Since the quadruped robot has a floating base, we specify it in the constructor."
   ]
  },
  {
   "cell_type": "code",
   "execution_count": null,
   "metadata": {},
   "outputs": [],
   "source": [
    "path_to_urdf = 'urdf/anymal_b_simple_description/urdf/anymal.urdf'\n",
    "anymal = robotoc.Robot(path_to_urdf, robotoc.BaseJointType.FloatingBase, \n",
    "                       contact_frames, contact_types, baumgarte_time_step)"
   ]
  },
  {
   "cell_type": "markdown",
   "metadata": {},
   "source": [
    "We can see the detail of the robot model as "
   ]
  },
  {
   "cell_type": "code",
   "execution_count": null,
   "metadata": {},
   "outputs": [],
   "source": [
    "print(anymal)"
   ]
  },
  {
   "cell_type": "markdown",
   "metadata": {},
   "source": [
    "We can also display the robot.  "
   ]
  },
  {
   "cell_type": "code",
   "execution_count": null,
   "metadata": {},
   "outputs": [],
   "source": [
    "steps = 10\n",
    "q = [anymal.generate_feasible_configuration() for i in range(steps)]\n",
    "dt = 1.0\n",
    "\n",
    "viewer = robotoc.utils.TrajectoryViewer(path_to_urdf=path_to_urdf,\n",
    "                                        base_joint_type=robotoc.BaseJointType.FloatingBase, \n",
    "                                        viewer_type='meshcat')\n",
    "viewer.display(dt, q)"
   ]
  },
  {
   "cell_type": "markdown",
   "metadata": {},
   "source": [
    "## Humanoid robot `iCub`\n",
    "\n",
    "Third, we try a humanoid robot example.  \n",
    "Humanoid robots typically involve **two surface contacts**.  \n",
    "In the constructor, we specify the contact frames and types of the contacts as"
   ]
  },
  {
   "cell_type": "code",
   "execution_count": null,
   "metadata": {},
   "outputs": [],
   "source": [
    "contact_frames = ['l_sole', 'r_sole']\n",
    "contact_types = [robotoc.ContactType.SurfaceContact for i in contact_frames]\n",
    "\n",
    "baumgarte_time_step = 0.05\n",
    "\n",
    "path_to_urdf = 'urdf/icub_description/urdf/icub.urdf'\n",
    "icub = robotoc.Robot(path_to_urdf, robotoc.BaseJointType.FloatingBase, \n",
    "                     contact_frames, contact_types, baumgarte_time_step)"
   ]
  },
  {
   "cell_type": "markdown",
   "metadata": {},
   "source": [
    "We can see the detail of the robot model as "
   ]
  },
  {
   "cell_type": "code",
   "execution_count": null,
   "metadata": {},
   "outputs": [],
   "source": [
    "print(icub)"
   ]
  },
  {
   "cell_type": "markdown",
   "metadata": {},
   "source": [
    "and display the robot"
   ]
  },
  {
   "cell_type": "code",
   "execution_count": null,
   "metadata": {},
   "outputs": [],
   "source": [
    "steps = 10\n",
    "q = [icub.generate_feasible_configuration() for i in range(steps)]\n",
    "dt = 1.0\n",
    "\n",
    "viewer = robotoc.utils.TrajectoryViewer(path_to_urdf=path_to_urdf,\n",
    "                                        base_joint_type=robotoc.BaseJointType.FloatingBase, \n",
    "                                        viewer_type='meshcat')\n",
    "viewer.display(dt, q)"
   ]
  }
 ],
 "metadata": {
  "kernelspec": {
   "display_name": "Python 3 (ipykernel)",
   "language": "python",
   "name": "python3"
  },
  "language_info": {
   "codemirror_mode": {
    "name": "ipython",
    "version": 3
   },
   "file_extension": ".py",
   "mimetype": "text/x-python",
   "name": "python",
   "nbconvert_exporter": "python",
   "pygments_lexer": "ipython3",
   "version": "3.9.13"
  }
 },
 "nbformat": 4,
 "nbformat_minor": 4
}
