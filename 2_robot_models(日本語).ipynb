{
 "cells": [
  {
   "cell_type": "markdown",
   "metadata": {},
   "source": [
    "## Introduction to `robotoc` \n",
    "# 2: Robot  Models"
   ]
  },
  {
   "cell_type": "markdown",
   "metadata": {},
   "source": [
    "## 本章の目的\n",
    "URDFからロボット (`robotoc::Robot`) モデルを作成することが目的です.  \n",
    "ここで， `robotoc::Robot`は [`Pinocchio`](https://github.com/stack-of-tasks/pinocchio) のAPIをラップしています.  \n",
    "より深く知りたい方は， [`Pinocchio` の documentation](https://stack-of-tasks.github.io/pinocchio/) を参照してください."
   ]
  },
  {
   "cell_type": "markdown",
   "metadata": {},
   "source": [
    "## What is URDF?\n",
    "URDF (universal robot description format) はロボットのモデルを記述するフォーマットです.  \n",
    "既成のURDFを`robotoc`で利用するだけであれば，URDFについての知識はほとんど必要ありません．   \n",
    "本リポジトリの `urdf`フォルダに既成のURDFパッケージがあります．   \n",
    "その中身を見れば分かりますが，URDFパッケージはurdf ファイル(`~.urdf`) とメッシュファイル (e.g., `~.dae` or `~.obj`)から成ります．   \n",
    "urdf ファイルは他関節ロボットのツリー構造を記述し，メッシュファイルは可視化や衝突検証のために用いられます．   \n",
    "より詳しく知りたい方はROSのチュートリアル http://wiki.ros.org/urdf/Tutorials などを参照してください.  "
   ]
  },
  {
   "cell_type": "markdown",
   "metadata": {},
   "source": [
    "## Simplest example: ロボットマニピュレータ `iiwa14`\n",
    "\n",
    "まずは最もシンプルな `robotoc.Robot` (`robotoc::Robot` in C++) の例としてロボットマニピュレータ（ロボットアーム）を扱います.  \n",
    "ここで，C++での `robotoc::Robot` はPythonより非常に多くの機能があります.（Pythonでは最低限の機能しか提供していません．）"
   ]
  },
  {
   "cell_type": "code",
   "execution_count": null,
   "metadata": {},
   "outputs": [],
   "source": [
    "import robotoc\n",
    "path_to_urdf = \"urdf/iiwa_description/urdf/iiwa14.urdf\"\n",
    "iiwa14 = robotoc.Robot(path_to_urdf)"
   ]
  },
  {
   "cell_type": "markdown",
   "metadata": {},
   "source": [
    "ロボットの様々な情報は以下のようにプリントできます．"
   ]
  },
  {
   "cell_type": "code",
   "execution_count": null,
   "metadata": {},
   "outputs": [],
   "source": [
    "print(iiwa14)"
   ]
  },
  {
   "cell_type": "markdown",
   "metadata": {},
   "source": [
    "プリントされた情報は以下の通りです．\n",
    "- `dimq`: configuration（一般化座標）の次元\n",
    "- `dimv`: 一般加速度の次元 (`dimq`と異なる場合があります)\n",
    "- `dimu`: 入力トルクの次元\n",
    "- `dim_passive`: passiveなジョイント（力をだせないジョイント）の次元． floating base を含みます．\n",
    "- `frames`: ロボットのフレーム．評価関数や制約でエンドエフェクタを指定する際に用います．\n",
    "- `joints`: ジョイントの情報です．\n",
    "- `effort limit`: ジョイントのトルクの上限です．\n",
    "- `velocity limit`: ジョイントの速度の上限です．\n",
    "- `lower position limit`, `upper position limit`:　ジョイントの位置の上下限です．\n",
    "\n",
    "これらのうち一部は以下のように個々に得られます．"
   ]
  },
  {
   "cell_type": "code",
   "execution_count": null,
   "metadata": {},
   "outputs": [],
   "source": [
    "iiwa14.dimq()"
   ]
  },
  {
   "cell_type": "code",
   "execution_count": null,
   "metadata": {},
   "outputs": [],
   "source": [
    "iiwa14.dimv()"
   ]
  },
  {
   "cell_type": "code",
   "execution_count": null,
   "metadata": {},
   "outputs": [],
   "source": [
    "iiwa14.dimu()"
   ]
  },
  {
   "cell_type": "code",
   "execution_count": null,
   "metadata": {},
   "outputs": [],
   "source": [
    "iiwa14.dim_passive()"
   ]
  },
  {
   "cell_type": "code",
   "execution_count": null,
   "metadata": {},
   "outputs": [],
   "source": [
    "iiwa14.joint_effort_limit()"
   ]
  },
  {
   "cell_type": "code",
   "execution_count": null,
   "metadata": {},
   "outputs": [],
   "source": [
    "iiwa14.joint_velocity_limit()"
   ]
  },
  {
   "cell_type": "code",
   "execution_count": null,
   "metadata": {},
   "outputs": [],
   "source": [
    "iiwa14.lower_joint_position_limit()"
   ]
  },
  {
   "cell_type": "code",
   "execution_count": null,
   "metadata": {},
   "outputs": [],
   "source": [
    "iiwa14.upper_joint_position_limit()"
   ]
  },
  {
   "cell_type": "markdown",
   "metadata": {},
   "source": [
    "`robotoc`でロボットの可視化もできます．試しにランダムな関節角について可視化してみましょう．　　　   \n",
    "（実際には，ランダムな関節角速度を生成し，それを積分して関節角軌道を生成しています．）"
   ]
  },
  {
   "cell_type": "code",
   "execution_count": null,
   "metadata": {},
   "outputs": [],
   "source": [
    "import numpy as np\n",
    "steps = 100\n",
    "dt = 0.1\n",
    "q = []\n",
    "q.append(iiwa14.generate_feasible_configuration())\n",
    "for i in range(steps):\n",
    "    v = np.random.randn(iiwa14.dimv())\n",
    "    q.append(iiwa14.integrate_configuration(q[-1], v, dt))\n",
    "\n",
    "viewer = robotoc.utils.TrajectoryViewer(path_to_urdf=path_to_urdf, viewer_type='meshcat')\n",
    "viewer.display(dt, q)"
   ]
  },
  {
   "cell_type": "markdown",
   "metadata": {},
   "source": [
    "Pythonでもシンプルな forward kinematics （指定した関節角に対する end-effector の位置計算） を試すことができます．"
   ]
  },
  {
   "cell_type": "code",
   "execution_count": null,
   "metadata": {},
   "outputs": [],
   "source": [
    "end_effector_frame = 'iiwa_link_ee_kuka'\n",
    "for e in q:\n",
    "    iiwa14.forward_kinematics(e)\n",
    "    print('q: ', e)\n",
    "    print('frame position: ', iiwa14.frame_position(end_effector_frame))\n",
    "    print('frame rotation: ', iiwa14.frame_rotation(end_effector_frame))\n",
    "    print('frame placement (SE3): ', iiwa14.frame_placement(end_effector_frame))"
   ]
  },
  {
   "cell_type": "markdown",
   "metadata": {},
   "source": [
    "## 4脚ロボット `ANYmal`\n",
    "\n",
    "次に４脚ロボットを試してみます．    \n",
    "4脚ロボットは**4つの点接触 (Point Contacts)**を伴う点がマニピュレータとの大きな違いです．   \n",
    "接触は，接触フレームの名前かインデックスで指定できます．   \n",
    "以下では名前で指定します．    "
   ]
  },
  {
   "cell_type": "code",
   "execution_count": null,
   "metadata": {},
   "outputs": [],
   "source": [
    "contact_frames = ['LF_FOOT', 'LH_FOOT', 'RF_FOOT', 'RH_FOOT']"
   ]
  },
  {
   "cell_type": "markdown",
   "metadata": {},
   "source": [
    "また，接触の種類も指定する必要があります.   \n",
    "4脚ロボットの接触は**点接触 (Point Contact)**ですので，以下のように指定します．"
   ]
  },
  {
   "cell_type": "code",
   "execution_count": null,
   "metadata": {},
   "outputs": [],
   "source": [
    "contact_types = [robotoc.ContactType.PointContact for _ in contact_frames]"
   ]
  },
  {
   "cell_type": "markdown",
   "metadata": {},
   "source": [
    "接触がある場合には， Baumgarte の安定化法のパラメータを設定する必要があります．  \n",
    "これを適切に設定することで，正確な rigid contact を最適制御の中で再現します.    \n",
    "詳細は [こちらの論文](https://www.researchgate.net/publication/234610391_A_Parametric_Study_on_the_Baumgarte_Stabilization_Method_for_Forward_Dynamics_of_Constrained_Multibody_Systems) などを参照して下さい.\n",
    "適切なパラメータはMPCの離散化の時間ステップなどに依存します.    \n",
    "手元で少し試して決めてください．   \n",
    "私のこれまでの経験では，MPCの時間ステップの 2~10倍程度に Baumgarte　の安定化法の時間ステップを設定すればうまくいきます．   \n",
    "ここでは 0.04とします．"
   ]
  },
  {
   "cell_type": "code",
   "execution_count": null,
   "metadata": {},
   "outputs": [],
   "source": [
    "baumgarte_time_step = 0.04"
   ]
  },
  {
   "cell_type": "markdown",
   "metadata": {},
   "source": [
    "いよいよロボットモデルを作成します．   \n",
    "4脚ロボットは floating base を持つため，その点もコンストラクタで指定します．"
   ]
  },
  {
   "cell_type": "code",
   "execution_count": null,
   "metadata": {},
   "outputs": [],
   "source": [
    "path_to_urdf = 'urdf/anymal_b_simple_description/urdf/anymal.urdf'\n",
    "anymal = robotoc.Robot(path_to_urdf, robotoc.BaseJointType.FloatingBase, \n",
    "                       contact_frames, contact_types, baumgarte_time_step)"
   ]
  },
  {
   "cell_type": "markdown",
   "metadata": {},
   "source": [
    "ロボットモデルの詳細は以下で見れます．"
   ]
  },
  {
   "cell_type": "code",
   "execution_count": null,
   "metadata": {},
   "outputs": [],
   "source": [
    "print(anymal)"
   ]
  },
  {
   "cell_type": "markdown",
   "metadata": {},
   "source": [
    "再び，以下で可視化してみましょう．"
   ]
  },
  {
   "cell_type": "code",
   "execution_count": null,
   "metadata": {},
   "outputs": [],
   "source": [
    "steps = 100\n",
    "dt = 0.1\n",
    "q = []\n",
    "q.append(anymal.generate_feasible_configuration())\n",
    "q[0][0:3] = np.zeros(3)\n",
    "for i in range(steps):\n",
    "    v = np.concatenate([0.1*np.random.randn(6), np.random.randn(anymal.dimu())])\n",
    "    q.append(anymal.integrate_configuration(q[-1], v, dt))\n",
    "\n",
    "viewer = robotoc.utils.TrajectoryViewer(path_to_urdf=path_to_urdf,\n",
    "                                        base_joint_type=robotoc.BaseJointType.FloatingBase,\n",
    "                                        viewer_type='meshcat')\n",
    "viewer.display(dt, q)"
   ]
  },
  {
   "cell_type": "markdown",
   "metadata": {},
   "source": [
    "## ヒューマノイドロボット `iCub`\n",
    "\n",
    "次に，ヒューマノイドロボットを扱います．   \n",
    "ヒューマノイドロボットは**面接触 (Surface Contacts)** を2つ伴うため，以下のように設定します．"
   ]
  },
  {
   "cell_type": "code",
   "execution_count": null,
   "metadata": {},
   "outputs": [],
   "source": [
    "contact_frames = ['l_sole', 'r_sole']\n",
    "contact_types = [robotoc.ContactType.SurfaceContact for i in contact_frames]\n",
    "\n",
    "baumgarte_time_step = 0.05\n",
    "\n",
    "path_to_urdf = 'urdf/icub_description/urdf/icub.urdf'\n",
    "icub = robotoc.Robot(path_to_urdf, robotoc.BaseJointType.FloatingBase, \n",
    "                     contact_frames, contact_types, baumgarte_time_step)"
   ]
  },
  {
   "cell_type": "markdown",
   "metadata": {},
   "source": [
    "ロボットモデルの詳細を見てみましょう．"
   ]
  },
  {
   "cell_type": "code",
   "execution_count": null,
   "metadata": {},
   "outputs": [],
   "source": [
    "print(icub)"
   ]
  },
  {
   "cell_type": "markdown",
   "metadata": {},
   "source": [
    "また，以下で可視化してみましょう．"
   ]
  },
  {
   "cell_type": "code",
   "execution_count": null,
   "metadata": {},
   "outputs": [],
   "source": [
    "steps = 100\n",
    "dt = 0.1\n",
    "q = []\n",
    "q.append(icub.generate_feasible_configuration())\n",
    "q[0][0:3] = np.zeros(3)\n",
    "for i in range(steps):\n",
    "    v = np.concatenate([0.1*np.random.randn(6), np.random.randn(icub.dimu())])\n",
    "    q.append(icub.integrate_configuration(q[-1], v, dt))\n",
    "\n",
    "viewer = robotoc.utils.TrajectoryViewer(path_to_urdf=path_to_urdf,\n",
    "                                        base_joint_type=robotoc.BaseJointType.FloatingBase,\n",
    "                                        viewer_type='meshcat')\n",
    "viewer.display(dt, q)"
   ]
  }
 ],
 "metadata": {
  "kernelspec": {
   "display_name": "Python 3 (ipykernel)",
   "language": "python",
   "name": "python3"
  },
  "language_info": {
   "codemirror_mode": {
    "name": "ipython",
    "version": 3
   },
   "file_extension": ".py",
   "mimetype": "text/x-python",
   "name": "python",
   "nbconvert_exporter": "python",
   "pygments_lexer": "ipython3",
   "version": "3.9.13"
  }
 },
 "nbformat": 4,
 "nbformat_minor": 4
}
